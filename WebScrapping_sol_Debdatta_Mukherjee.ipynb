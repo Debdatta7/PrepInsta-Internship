{
  "nbformat": 4,
  "nbformat_minor": 0,
  "metadata": {
    "colab": {
      "provenance": [],
      "authorship_tag": "ABX9TyOuscIoPh60hAKPb4ASyTh5",
      "include_colab_link": true
    },
    "kernelspec": {
      "name": "python3",
      "display_name": "Python 3"
    },
    "language_info": {
      "name": "python"
    }
  },
  "cells": [
    {
      "cell_type": "markdown",
      "metadata": {
        "id": "view-in-github",
        "colab_type": "text"
      },
      "source": [
        "<a href=\"https://colab.research.google.com/github/Debdatta7/PrepInsta-Internship/blob/main/WebScrapping_sol_Debdatta_Mukherjee.ipynb\" target=\"_parent\"><img src=\"https://colab.research.google.com/assets/colab-badge.svg\" alt=\"Open In Colab\"/></a>"
      ]
    },
    {
      "cell_type": "markdown",
      "source": [
        "### Web Scrapping\n",
        "Website to scrape data: http://books.toscrape.com/"
      ],
      "metadata": {
        "id": "B7UVLLbjWZN6"
      }
    },
    {
      "cell_type": "code",
      "execution_count": null,
      "metadata": {
        "id": "TWSbbnXFWLd4"
      },
      "outputs": [],
      "source": [
        "import requests\n",
        "from bs4 import BeautifulSoup as bs\n",
        "import pandas as pd"
      ]
    },
    {
      "cell_type": "code",
      "source": [
        "url = 'http://books.toscrape.com/'\n",
        "response = requests.get(url)"
      ],
      "metadata": {
        "id": "teYpvgiRXM1f"
      },
      "execution_count": null,
      "outputs": []
    },
    {
      "cell_type": "code",
      "source": [
        "response"
      ],
      "metadata": {
        "colab": {
          "base_uri": "https://localhost:8080/"
        },
        "id": "7mMfxvD4XhFI",
        "outputId": "d63d75bc-4232-4127-9adc-678c55cf16fa"
      },
      "execution_count": null,
      "outputs": [
        {
          "output_type": "execute_result",
          "data": {
            "text/plain": [
              "<Response [200]>"
            ]
          },
          "metadata": {},
          "execution_count": 59
        }
      ]
    },
    {
      "cell_type": "code",
      "source": [
        "response.status_code"
      ],
      "metadata": {
        "colab": {
          "base_uri": "https://localhost:8080/"
        },
        "id": "yqjYvnXzXoGG",
        "outputId": "ea3c90d1-6d99-473a-c5d6-c5341d734b0a"
      },
      "execution_count": null,
      "outputs": [
        {
          "output_type": "execute_result",
          "data": {
            "text/plain": [
              "200"
            ]
          },
          "metadata": {},
          "execution_count": 60
        }
      ]
    },
    {
      "cell_type": "code",
      "source": [
        "type(response)"
      ],
      "metadata": {
        "colab": {
          "base_uri": "https://localhost:8080/"
        },
        "id": "ZPrBDd8WXpkn",
        "outputId": "30530882-f535-4eb4-d2e0-25535820c655"
      },
      "execution_count": null,
      "outputs": [
        {
          "output_type": "execute_result",
          "data": {
            "text/plain": [
              "requests.models.Response"
            ]
          },
          "metadata": {},
          "execution_count": 61
        }
      ]
    },
    {
      "cell_type": "code",
      "source": [
        "print(response.text[:1000])"
      ],
      "metadata": {
        "colab": {
          "base_uri": "https://localhost:8080/"
        },
        "id": "YL6hzhS3XtOD",
        "outputId": "26779f3e-38ff-40a0-f064-9b869e05e324"
      },
      "execution_count": null,
      "outputs": [
        {
          "output_type": "stream",
          "name": "stdout",
          "text": [
            "<!DOCTYPE html>\n",
            "<!--[if lt IE 7]>      <html lang=\"en-us\" class=\"no-js lt-ie9 lt-ie8 lt-ie7\"> <![endif]-->\n",
            "<!--[if IE 7]>         <html lang=\"en-us\" class=\"no-js lt-ie9 lt-ie8\"> <![endif]-->\n",
            "<!--[if IE 8]>         <html lang=\"en-us\" class=\"no-js lt-ie9\"> <![endif]-->\n",
            "<!--[if gt IE 8]><!--> <html lang=\"en-us\" class=\"no-js\"> <!--<![endif]-->\n",
            "    <head>\n",
            "        <title>\n",
            "    All products | Books to Scrape - Sandbox\n",
            "</title>\n",
            "\n",
            "        <meta http-equiv=\"content-type\" content=\"text/html; charset=UTF-8\" />\n",
            "        <meta name=\"created\" content=\"24th Jun 2016 09:29\" />\n",
            "        <meta name=\"description\" content=\"\" />\n",
            "        <meta name=\"viewport\" content=\"width=device-width\" />\n",
            "        <meta name=\"robots\" content=\"NOARCHIVE,NOCACHE\" />\n",
            "\n",
            "        <!-- Le HTML5 shim, for IE6-8 support of HTML elements -->\n",
            "        <!--[if lt IE 9]>\n",
            "        <script src=\"//html5shim.googlecode.com/svn/trunk/html5.js\"></script>\n",
            "        <![endif]-->\n",
            "\n",
            "        \n",
            "            <link rel=\"shortcut icon\" href=\"static/oscar/favicon.\n"
          ]
        }
      ]
    },
    {
      "cell_type": "code",
      "source": [
        "type(response.text)"
      ],
      "metadata": {
        "colab": {
          "base_uri": "https://localhost:8080/"
        },
        "id": "yxNcYVIDX0F4",
        "outputId": "22e84f88-ccfc-4773-f330-ae227ea678cf"
      },
      "execution_count": null,
      "outputs": [
        {
          "output_type": "execute_result",
          "data": {
            "text/plain": [
              "str"
            ]
          },
          "metadata": {},
          "execution_count": 63
        }
      ]
    },
    {
      "cell_type": "code",
      "source": [
        "soup = bs(response.text, 'html.parser')"
      ],
      "metadata": {
        "id": "52Kg19QCX1bk"
      },
      "execution_count": null,
      "outputs": []
    },
    {
      "cell_type": "code",
      "source": [
        "type(soup)"
      ],
      "metadata": {
        "colab": {
          "base_uri": "https://localhost:8080/"
        },
        "id": "KE9Sgms5YSy4",
        "outputId": "0e72235f-8d18-49dd-e298-a3d7af198206"
      },
      "execution_count": null,
      "outputs": [
        {
          "output_type": "execute_result",
          "data": {
            "text/plain": [
              "bs4.BeautifulSoup"
            ]
          },
          "metadata": {},
          "execution_count": 65
        }
      ]
    },
    {
      "cell_type": "code",
      "source": [
        "#single book\n",
        "\n",
        "book = soup.find('article', class_='product_pod')"
      ],
      "metadata": {
        "id": "vAOHxEJ_0-Kr"
      },
      "execution_count": null,
      "outputs": []
    },
    {
      "cell_type": "code",
      "source": [
        "book"
      ],
      "metadata": {
        "colab": {
          "base_uri": "https://localhost:8080/"
        },
        "id": "egnxvX551GhF",
        "outputId": "a562fd58-faf4-457d-b3b0-a97d9f8e172c"
      },
      "execution_count": null,
      "outputs": [
        {
          "output_type": "execute_result",
          "data": {
            "text/plain": [
              "<article class=\"product_pod\">\n",
              "<div class=\"image_container\">\n",
              "<a href=\"catalogue/a-light-in-the-attic_1000/index.html\"><img alt=\"A Light in the Attic\" class=\"thumbnail\" src=\"media/cache/2c/da/2cdad67c44b002e7ead0cc35693c0e8b.jpg\"/></a>\n",
              "</div>\n",
              "<p class=\"star-rating Three\">\n",
              "<i class=\"icon-star\"></i>\n",
              "<i class=\"icon-star\"></i>\n",
              "<i class=\"icon-star\"></i>\n",
              "<i class=\"icon-star\"></i>\n",
              "<i class=\"icon-star\"></i>\n",
              "</p>\n",
              "<h3><a href=\"catalogue/a-light-in-the-attic_1000/index.html\" title=\"A Light in the Attic\">A Light in the ...</a></h3>\n",
              "<div class=\"product_price\">\n",
              "<p class=\"price_color\">Â£51.77</p>\n",
              "<p class=\"instock availability\">\n",
              "<i class=\"icon-ok\"></i>\n",
              "    \n",
              "        In stock\n",
              "    \n",
              "</p>\n",
              "<form>\n",
              "<button class=\"btn btn-primary btn-block\" data-loading-text=\"Adding...\" type=\"submit\">Add to basket</button>\n",
              "</form>\n",
              "</div>\n",
              "</article>"
            ]
          },
          "metadata": {},
          "execution_count": 67
        }
      ]
    },
    {
      "cell_type": "code",
      "source": [
        "title=soup.find('title').text.strip()"
      ],
      "metadata": {
        "id": "GGdXwWG55V__"
      },
      "execution_count": null,
      "outputs": []
    },
    {
      "cell_type": "code",
      "source": [
        "title"
      ],
      "metadata": {
        "colab": {
          "base_uri": "https://localhost:8080/",
          "height": 36
        },
        "id": "EWNDpnkh5c8F",
        "outputId": "3ae6d666-090e-47b7-a925-4c77a90154d3"
      },
      "execution_count": null,
      "outputs": [
        {
          "output_type": "execute_result",
          "data": {
            "text/plain": [
              "'All products | Books to Scrape - Sandbox'"
            ],
            "application/vnd.google.colaboratory.intrinsic+json": {
              "type": "string"
            }
          },
          "metadata": {},
          "execution_count": 69
        }
      ]
    },
    {
      "cell_type": "code",
      "source": [
        "#book containers\n",
        "\n",
        "books = soup.find_all('article',class_='product_pod')"
      ],
      "metadata": {
        "id": "lE2h7vPrYYlk"
      },
      "execution_count": null,
      "outputs": []
    },
    {
      "cell_type": "code",
      "source": [
        "len(books)"
      ],
      "metadata": {
        "colab": {
          "base_uri": "https://localhost:8080/"
        },
        "id": "SPucWtmuYbb7",
        "outputId": "c37ed488-65c2-4703-ba59-c46259fa3d30"
      },
      "execution_count": null,
      "outputs": [
        {
          "output_type": "execute_result",
          "data": {
            "text/plain": [
              "20"
            ]
          },
          "metadata": {},
          "execution_count": 71
        }
      ]
    },
    {
      "cell_type": "code",
      "source": [
        "books"
      ],
      "metadata": {
        "colab": {
          "base_uri": "https://localhost:8080/"
        },
        "id": "BxElhPk0Yq9U",
        "outputId": "cf658ce6-252e-4f01-e1f9-d016468ac511"
      },
      "execution_count": null,
      "outputs": [
        {
          "output_type": "execute_result",
          "data": {
            "text/plain": [
              "[<article class=\"product_pod\">\n",
              " <div class=\"image_container\">\n",
              " <a href=\"catalogue/a-light-in-the-attic_1000/index.html\"><img alt=\"A Light in the Attic\" class=\"thumbnail\" src=\"media/cache/2c/da/2cdad67c44b002e7ead0cc35693c0e8b.jpg\"/></a>\n",
              " </div>\n",
              " <p class=\"star-rating Three\">\n",
              " <i class=\"icon-star\"></i>\n",
              " <i class=\"icon-star\"></i>\n",
              " <i class=\"icon-star\"></i>\n",
              " <i class=\"icon-star\"></i>\n",
              " <i class=\"icon-star\"></i>\n",
              " </p>\n",
              " <h3><a href=\"catalogue/a-light-in-the-attic_1000/index.html\" title=\"A Light in the Attic\">A Light in the ...</a></h3>\n",
              " <div class=\"product_price\">\n",
              " <p class=\"price_color\">Â£51.77</p>\n",
              " <p class=\"instock availability\">\n",
              " <i class=\"icon-ok\"></i>\n",
              "     \n",
              "         In stock\n",
              "     \n",
              " </p>\n",
              " <form>\n",
              " <button class=\"btn btn-primary btn-block\" data-loading-text=\"Adding...\" type=\"submit\">Add to basket</button>\n",
              " </form>\n",
              " </div>\n",
              " </article>,\n",
              " <article class=\"product_pod\">\n",
              " <div class=\"image_container\">\n",
              " <a href=\"catalogue/tipping-the-velvet_999/index.html\"><img alt=\"Tipping the Velvet\" class=\"thumbnail\" src=\"media/cache/26/0c/260c6ae16bce31c8f8c95daddd9f4a1c.jpg\"/></a>\n",
              " </div>\n",
              " <p class=\"star-rating One\">\n",
              " <i class=\"icon-star\"></i>\n",
              " <i class=\"icon-star\"></i>\n",
              " <i class=\"icon-star\"></i>\n",
              " <i class=\"icon-star\"></i>\n",
              " <i class=\"icon-star\"></i>\n",
              " </p>\n",
              " <h3><a href=\"catalogue/tipping-the-velvet_999/index.html\" title=\"Tipping the Velvet\">Tipping the Velvet</a></h3>\n",
              " <div class=\"product_price\">\n",
              " <p class=\"price_color\">Â£53.74</p>\n",
              " <p class=\"instock availability\">\n",
              " <i class=\"icon-ok\"></i>\n",
              "     \n",
              "         In stock\n",
              "     \n",
              " </p>\n",
              " <form>\n",
              " <button class=\"btn btn-primary btn-block\" data-loading-text=\"Adding...\" type=\"submit\">Add to basket</button>\n",
              " </form>\n",
              " </div>\n",
              " </article>,\n",
              " <article class=\"product_pod\">\n",
              " <div class=\"image_container\">\n",
              " <a href=\"catalogue/soumission_998/index.html\"><img alt=\"Soumission\" class=\"thumbnail\" src=\"media/cache/3e/ef/3eef99c9d9adef34639f510662022830.jpg\"/></a>\n",
              " </div>\n",
              " <p class=\"star-rating One\">\n",
              " <i class=\"icon-star\"></i>\n",
              " <i class=\"icon-star\"></i>\n",
              " <i class=\"icon-star\"></i>\n",
              " <i class=\"icon-star\"></i>\n",
              " <i class=\"icon-star\"></i>\n",
              " </p>\n",
              " <h3><a href=\"catalogue/soumission_998/index.html\" title=\"Soumission\">Soumission</a></h3>\n",
              " <div class=\"product_price\">\n",
              " <p class=\"price_color\">Â£50.10</p>\n",
              " <p class=\"instock availability\">\n",
              " <i class=\"icon-ok\"></i>\n",
              "     \n",
              "         In stock\n",
              "     \n",
              " </p>\n",
              " <form>\n",
              " <button class=\"btn btn-primary btn-block\" data-loading-text=\"Adding...\" type=\"submit\">Add to basket</button>\n",
              " </form>\n",
              " </div>\n",
              " </article>,\n",
              " <article class=\"product_pod\">\n",
              " <div class=\"image_container\">\n",
              " <a href=\"catalogue/sharp-objects_997/index.html\"><img alt=\"Sharp Objects\" class=\"thumbnail\" src=\"media/cache/32/51/3251cf3a3412f53f339e42cac2134093.jpg\"/></a>\n",
              " </div>\n",
              " <p class=\"star-rating Four\">\n",
              " <i class=\"icon-star\"></i>\n",
              " <i class=\"icon-star\"></i>\n",
              " <i class=\"icon-star\"></i>\n",
              " <i class=\"icon-star\"></i>\n",
              " <i class=\"icon-star\"></i>\n",
              " </p>\n",
              " <h3><a href=\"catalogue/sharp-objects_997/index.html\" title=\"Sharp Objects\">Sharp Objects</a></h3>\n",
              " <div class=\"product_price\">\n",
              " <p class=\"price_color\">Â£47.82</p>\n",
              " <p class=\"instock availability\">\n",
              " <i class=\"icon-ok\"></i>\n",
              "     \n",
              "         In stock\n",
              "     \n",
              " </p>\n",
              " <form>\n",
              " <button class=\"btn btn-primary btn-block\" data-loading-text=\"Adding...\" type=\"submit\">Add to basket</button>\n",
              " </form>\n",
              " </div>\n",
              " </article>,\n",
              " <article class=\"product_pod\">\n",
              " <div class=\"image_container\">\n",
              " <a href=\"catalogue/sapiens-a-brief-history-of-humankind_996/index.html\"><img alt=\"Sapiens: A Brief History of Humankind\" class=\"thumbnail\" src=\"media/cache/be/a5/bea5697f2534a2f86a3ef27b5a8c12a6.jpg\"/></a>\n",
              " </div>\n",
              " <p class=\"star-rating Five\">\n",
              " <i class=\"icon-star\"></i>\n",
              " <i class=\"icon-star\"></i>\n",
              " <i class=\"icon-star\"></i>\n",
              " <i class=\"icon-star\"></i>\n",
              " <i class=\"icon-star\"></i>\n",
              " </p>\n",
              " <h3><a href=\"catalogue/sapiens-a-brief-history-of-humankind_996/index.html\" title=\"Sapiens: A Brief History of Humankind\">Sapiens: A Brief History ...</a></h3>\n",
              " <div class=\"product_price\">\n",
              " <p class=\"price_color\">Â£54.23</p>\n",
              " <p class=\"instock availability\">\n",
              " <i class=\"icon-ok\"></i>\n",
              "     \n",
              "         In stock\n",
              "     \n",
              " </p>\n",
              " <form>\n",
              " <button class=\"btn btn-primary btn-block\" data-loading-text=\"Adding...\" type=\"submit\">Add to basket</button>\n",
              " </form>\n",
              " </div>\n",
              " </article>,\n",
              " <article class=\"product_pod\">\n",
              " <div class=\"image_container\">\n",
              " <a href=\"catalogue/the-requiem-red_995/index.html\"><img alt=\"The Requiem Red\" class=\"thumbnail\" src=\"media/cache/68/33/68339b4c9bc034267e1da611ab3b34f8.jpg\"/></a>\n",
              " </div>\n",
              " <p class=\"star-rating One\">\n",
              " <i class=\"icon-star\"></i>\n",
              " <i class=\"icon-star\"></i>\n",
              " <i class=\"icon-star\"></i>\n",
              " <i class=\"icon-star\"></i>\n",
              " <i class=\"icon-star\"></i>\n",
              " </p>\n",
              " <h3><a href=\"catalogue/the-requiem-red_995/index.html\" title=\"The Requiem Red\">The Requiem Red</a></h3>\n",
              " <div class=\"product_price\">\n",
              " <p class=\"price_color\">Â£22.65</p>\n",
              " <p class=\"instock availability\">\n",
              " <i class=\"icon-ok\"></i>\n",
              "     \n",
              "         In stock\n",
              "     \n",
              " </p>\n",
              " <form>\n",
              " <button class=\"btn btn-primary btn-block\" data-loading-text=\"Adding...\" type=\"submit\">Add to basket</button>\n",
              " </form>\n",
              " </div>\n",
              " </article>,\n",
              " <article class=\"product_pod\">\n",
              " <div class=\"image_container\">\n",
              " <a href=\"catalogue/the-dirty-little-secrets-of-getting-your-dream-job_994/index.html\"><img alt=\"The Dirty Little Secrets of Getting Your Dream Job\" class=\"thumbnail\" src=\"media/cache/92/27/92274a95b7c251fea59a2b8a78275ab4.jpg\"/></a>\n",
              " </div>\n",
              " <p class=\"star-rating Four\">\n",
              " <i class=\"icon-star\"></i>\n",
              " <i class=\"icon-star\"></i>\n",
              " <i class=\"icon-star\"></i>\n",
              " <i class=\"icon-star\"></i>\n",
              " <i class=\"icon-star\"></i>\n",
              " </p>\n",
              " <h3><a href=\"catalogue/the-dirty-little-secrets-of-getting-your-dream-job_994/index.html\" title=\"The Dirty Little Secrets of Getting Your Dream Job\">The Dirty Little Secrets ...</a></h3>\n",
              " <div class=\"product_price\">\n",
              " <p class=\"price_color\">Â£33.34</p>\n",
              " <p class=\"instock availability\">\n",
              " <i class=\"icon-ok\"></i>\n",
              "     \n",
              "         In stock\n",
              "     \n",
              " </p>\n",
              " <form>\n",
              " <button class=\"btn btn-primary btn-block\" data-loading-text=\"Adding...\" type=\"submit\">Add to basket</button>\n",
              " </form>\n",
              " </div>\n",
              " </article>,\n",
              " <article class=\"product_pod\">\n",
              " <div class=\"image_container\">\n",
              " <a href=\"catalogue/the-coming-woman-a-novel-based-on-the-life-of-the-infamous-feminist-victoria-woodhull_993/index.html\"><img alt=\"The Coming Woman: A Novel Based on the Life of the Infamous Feminist, Victoria Woodhull\" class=\"thumbnail\" src=\"media/cache/3d/54/3d54940e57e662c4dd1f3ff00c78cc64.jpg\"/></a>\n",
              " </div>\n",
              " <p class=\"star-rating Three\">\n",
              " <i class=\"icon-star\"></i>\n",
              " <i class=\"icon-star\"></i>\n",
              " <i class=\"icon-star\"></i>\n",
              " <i class=\"icon-star\"></i>\n",
              " <i class=\"icon-star\"></i>\n",
              " </p>\n",
              " <h3><a href=\"catalogue/the-coming-woman-a-novel-based-on-the-life-of-the-infamous-feminist-victoria-woodhull_993/index.html\" title=\"The Coming Woman: A Novel Based on the Life of the Infamous Feminist, Victoria Woodhull\">The Coming Woman: A ...</a></h3>\n",
              " <div class=\"product_price\">\n",
              " <p class=\"price_color\">Â£17.93</p>\n",
              " <p class=\"instock availability\">\n",
              " <i class=\"icon-ok\"></i>\n",
              "     \n",
              "         In stock\n",
              "     \n",
              " </p>\n",
              " <form>\n",
              " <button class=\"btn btn-primary btn-block\" data-loading-text=\"Adding...\" type=\"submit\">Add to basket</button>\n",
              " </form>\n",
              " </div>\n",
              " </article>,\n",
              " <article class=\"product_pod\">\n",
              " <div class=\"image_container\">\n",
              " <a href=\"catalogue/the-boys-in-the-boat-nine-americans-and-their-epic-quest-for-gold-at-the-1936-berlin-olympics_992/index.html\"><img alt=\"The Boys in the Boat: Nine Americans and Their Epic Quest for Gold at the 1936 Berlin Olympics\" class=\"thumbnail\" src=\"media/cache/66/88/66883b91f6804b2323c8369331cb7dd1.jpg\"/></a>\n",
              " </div>\n",
              " <p class=\"star-rating Four\">\n",
              " <i class=\"icon-star\"></i>\n",
              " <i class=\"icon-star\"></i>\n",
              " <i class=\"icon-star\"></i>\n",
              " <i class=\"icon-star\"></i>\n",
              " <i class=\"icon-star\"></i>\n",
              " </p>\n",
              " <h3><a href=\"catalogue/the-boys-in-the-boat-nine-americans-and-their-epic-quest-for-gold-at-the-1936-berlin-olympics_992/index.html\" title=\"The Boys in the Boat: Nine Americans and Their Epic Quest for Gold at the 1936 Berlin Olympics\">The Boys in the ...</a></h3>\n",
              " <div class=\"product_price\">\n",
              " <p class=\"price_color\">Â£22.60</p>\n",
              " <p class=\"instock availability\">\n",
              " <i class=\"icon-ok\"></i>\n",
              "     \n",
              "         In stock\n",
              "     \n",
              " </p>\n",
              " <form>\n",
              " <button class=\"btn btn-primary btn-block\" data-loading-text=\"Adding...\" type=\"submit\">Add to basket</button>\n",
              " </form>\n",
              " </div>\n",
              " </article>,\n",
              " <article class=\"product_pod\">\n",
              " <div class=\"image_container\">\n",
              " <a href=\"catalogue/the-black-maria_991/index.html\"><img alt=\"The Black Maria\" class=\"thumbnail\" src=\"media/cache/58/46/5846057e28022268153beff6d352b06c.jpg\"/></a>\n",
              " </div>\n",
              " <p class=\"star-rating One\">\n",
              " <i class=\"icon-star\"></i>\n",
              " <i class=\"icon-star\"></i>\n",
              " <i class=\"icon-star\"></i>\n",
              " <i class=\"icon-star\"></i>\n",
              " <i class=\"icon-star\"></i>\n",
              " </p>\n",
              " <h3><a href=\"catalogue/the-black-maria_991/index.html\" title=\"The Black Maria\">The Black Maria</a></h3>\n",
              " <div class=\"product_price\">\n",
              " <p class=\"price_color\">Â£52.15</p>\n",
              " <p class=\"instock availability\">\n",
              " <i class=\"icon-ok\"></i>\n",
              "     \n",
              "         In stock\n",
              "     \n",
              " </p>\n",
              " <form>\n",
              " <button class=\"btn btn-primary btn-block\" data-loading-text=\"Adding...\" type=\"submit\">Add to basket</button>\n",
              " </form>\n",
              " </div>\n",
              " </article>,\n",
              " <article class=\"product_pod\">\n",
              " <div class=\"image_container\">\n",
              " <a href=\"catalogue/starving-hearts-triangular-trade-trilogy-1_990/index.html\"><img alt=\"Starving Hearts (Triangular Trade Trilogy, #1)\" class=\"thumbnail\" src=\"media/cache/be/f4/bef44da28c98f905a3ebec0b87be8530.jpg\"/></a>\n",
              " </div>\n",
              " <p class=\"star-rating Two\">\n",
              " <i class=\"icon-star\"></i>\n",
              " <i class=\"icon-star\"></i>\n",
              " <i class=\"icon-star\"></i>\n",
              " <i class=\"icon-star\"></i>\n",
              " <i class=\"icon-star\"></i>\n",
              " </p>\n",
              " <h3><a href=\"catalogue/starving-hearts-triangular-trade-trilogy-1_990/index.html\" title=\"Starving Hearts (Triangular Trade Trilogy, #1)\">Starving Hearts (Triangular Trade ...</a></h3>\n",
              " <div class=\"product_price\">\n",
              " <p class=\"price_color\">Â£13.99</p>\n",
              " <p class=\"instock availability\">\n",
              " <i class=\"icon-ok\"></i>\n",
              "     \n",
              "         In stock\n",
              "     \n",
              " </p>\n",
              " <form>\n",
              " <button class=\"btn btn-primary btn-block\" data-loading-text=\"Adding...\" type=\"submit\">Add to basket</button>\n",
              " </form>\n",
              " </div>\n",
              " </article>,\n",
              " <article class=\"product_pod\">\n",
              " <div class=\"image_container\">\n",
              " <a href=\"catalogue/shakespeares-sonnets_989/index.html\"><img alt=\"Shakespeare's Sonnets\" class=\"thumbnail\" src=\"media/cache/10/48/1048f63d3b5061cd2f424d20b3f9b666.jpg\"/></a>\n",
              " </div>\n",
              " <p class=\"star-rating Four\">\n",
              " <i class=\"icon-star\"></i>\n",
              " <i class=\"icon-star\"></i>\n",
              " <i class=\"icon-star\"></i>\n",
              " <i class=\"icon-star\"></i>\n",
              " <i class=\"icon-star\"></i>\n",
              " </p>\n",
              " <h3><a href=\"catalogue/shakespeares-sonnets_989/index.html\" title=\"Shakespeare's Sonnets\">Shakespeare's Sonnets</a></h3>\n",
              " <div class=\"product_price\">\n",
              " <p class=\"price_color\">Â£20.66</p>\n",
              " <p class=\"instock availability\">\n",
              " <i class=\"icon-ok\"></i>\n",
              "     \n",
              "         In stock\n",
              "     \n",
              " </p>\n",
              " <form>\n",
              " <button class=\"btn btn-primary btn-block\" data-loading-text=\"Adding...\" type=\"submit\">Add to basket</button>\n",
              " </form>\n",
              " </div>\n",
              " </article>,\n",
              " <article class=\"product_pod\">\n",
              " <div class=\"image_container\">\n",
              " <a href=\"catalogue/set-me-free_988/index.html\"><img alt=\"Set Me Free\" class=\"thumbnail\" src=\"media/cache/5b/88/5b88c52633f53cacf162c15f4f823153.jpg\"/></a>\n",
              " </div>\n",
              " <p class=\"star-rating Five\">\n",
              " <i class=\"icon-star\"></i>\n",
              " <i class=\"icon-star\"></i>\n",
              " <i class=\"icon-star\"></i>\n",
              " <i class=\"icon-star\"></i>\n",
              " <i class=\"icon-star\"></i>\n",
              " </p>\n",
              " <h3><a href=\"catalogue/set-me-free_988/index.html\" title=\"Set Me Free\">Set Me Free</a></h3>\n",
              " <div class=\"product_price\">\n",
              " <p class=\"price_color\">Â£17.46</p>\n",
              " <p class=\"instock availability\">\n",
              " <i class=\"icon-ok\"></i>\n",
              "     \n",
              "         In stock\n",
              "     \n",
              " </p>\n",
              " <form>\n",
              " <button class=\"btn btn-primary btn-block\" data-loading-text=\"Adding...\" type=\"submit\">Add to basket</button>\n",
              " </form>\n",
              " </div>\n",
              " </article>,\n",
              " <article class=\"product_pod\">\n",
              " <div class=\"image_container\">\n",
              " <a href=\"catalogue/scott-pilgrims-precious-little-life-scott-pilgrim-1_987/index.html\"><img alt=\"Scott Pilgrim's Precious Little Life (Scott Pilgrim #1)\" class=\"thumbnail\" src=\"media/cache/94/b1/94b1b8b244bce9677c2f29ccc890d4d2.jpg\"/></a>\n",
              " </div>\n",
              " <p class=\"star-rating Five\">\n",
              " <i class=\"icon-star\"></i>\n",
              " <i class=\"icon-star\"></i>\n",
              " <i class=\"icon-star\"></i>\n",
              " <i class=\"icon-star\"></i>\n",
              " <i class=\"icon-star\"></i>\n",
              " </p>\n",
              " <h3><a href=\"catalogue/scott-pilgrims-precious-little-life-scott-pilgrim-1_987/index.html\" title=\"Scott Pilgrim's Precious Little Life (Scott Pilgrim #1)\">Scott Pilgrim's Precious Little ...</a></h3>\n",
              " <div class=\"product_price\">\n",
              " <p class=\"price_color\">Â£52.29</p>\n",
              " <p class=\"instock availability\">\n",
              " <i class=\"icon-ok\"></i>\n",
              "     \n",
              "         In stock\n",
              "     \n",
              " </p>\n",
              " <form>\n",
              " <button class=\"btn btn-primary btn-block\" data-loading-text=\"Adding...\" type=\"submit\">Add to basket</button>\n",
              " </form>\n",
              " </div>\n",
              " </article>,\n",
              " <article class=\"product_pod\">\n",
              " <div class=\"image_container\">\n",
              " <a href=\"catalogue/rip-it-up-and-start-again_986/index.html\"><img alt=\"Rip it Up and Start Again\" class=\"thumbnail\" src=\"media/cache/81/c4/81c4a973364e17d01f217e1188253d5e.jpg\"/></a>\n",
              " </div>\n",
              " <p class=\"star-rating Five\">\n",
              " <i class=\"icon-star\"></i>\n",
              " <i class=\"icon-star\"></i>\n",
              " <i class=\"icon-star\"></i>\n",
              " <i class=\"icon-star\"></i>\n",
              " <i class=\"icon-star\"></i>\n",
              " </p>\n",
              " <h3><a href=\"catalogue/rip-it-up-and-start-again_986/index.html\" title=\"Rip it Up and Start Again\">Rip it Up and ...</a></h3>\n",
              " <div class=\"product_price\">\n",
              " <p class=\"price_color\">Â£35.02</p>\n",
              " <p class=\"instock availability\">\n",
              " <i class=\"icon-ok\"></i>\n",
              "     \n",
              "         In stock\n",
              "     \n",
              " </p>\n",
              " <form>\n",
              " <button class=\"btn btn-primary btn-block\" data-loading-text=\"Adding...\" type=\"submit\">Add to basket</button>\n",
              " </form>\n",
              " </div>\n",
              " </article>,\n",
              " <article class=\"product_pod\">\n",
              " <div class=\"image_container\">\n",
              " <a href=\"catalogue/our-band-could-be-your-life-scenes-from-the-american-indie-underground-1981-1991_985/index.html\"><img alt=\"Our Band Could Be Your Life: Scenes from the American Indie Underground, 1981-1991\" class=\"thumbnail\" src=\"media/cache/54/60/54607fe8945897cdcced0044103b10b6.jpg\"/></a>\n",
              " </div>\n",
              " <p class=\"star-rating Three\">\n",
              " <i class=\"icon-star\"></i>\n",
              " <i class=\"icon-star\"></i>\n",
              " <i class=\"icon-star\"></i>\n",
              " <i class=\"icon-star\"></i>\n",
              " <i class=\"icon-star\"></i>\n",
              " </p>\n",
              " <h3><a href=\"catalogue/our-band-could-be-your-life-scenes-from-the-american-indie-underground-1981-1991_985/index.html\" title=\"Our Band Could Be Your Life: Scenes from the American Indie Underground, 1981-1991\">Our Band Could Be ...</a></h3>\n",
              " <div class=\"product_price\">\n",
              " <p class=\"price_color\">Â£57.25</p>\n",
              " <p class=\"instock availability\">\n",
              " <i class=\"icon-ok\"></i>\n",
              "     \n",
              "         In stock\n",
              "     \n",
              " </p>\n",
              " <form>\n",
              " <button class=\"btn btn-primary btn-block\" data-loading-text=\"Adding...\" type=\"submit\">Add to basket</button>\n",
              " </form>\n",
              " </div>\n",
              " </article>,\n",
              " <article class=\"product_pod\">\n",
              " <div class=\"image_container\">\n",
              " <a href=\"catalogue/olio_984/index.html\"><img alt=\"Olio\" class=\"thumbnail\" src=\"media/cache/55/33/553310a7162dfbc2c6d19a84da0df9e1.jpg\"/></a>\n",
              " </div>\n",
              " <p class=\"star-rating One\">\n",
              " <i class=\"icon-star\"></i>\n",
              " <i class=\"icon-star\"></i>\n",
              " <i class=\"icon-star\"></i>\n",
              " <i class=\"icon-star\"></i>\n",
              " <i class=\"icon-star\"></i>\n",
              " </p>\n",
              " <h3><a href=\"catalogue/olio_984/index.html\" title=\"Olio\">Olio</a></h3>\n",
              " <div class=\"product_price\">\n",
              " <p class=\"price_color\">Â£23.88</p>\n",
              " <p class=\"instock availability\">\n",
              " <i class=\"icon-ok\"></i>\n",
              "     \n",
              "         In stock\n",
              "     \n",
              " </p>\n",
              " <form>\n",
              " <button class=\"btn btn-primary btn-block\" data-loading-text=\"Adding...\" type=\"submit\">Add to basket</button>\n",
              " </form>\n",
              " </div>\n",
              " </article>,\n",
              " <article class=\"product_pod\">\n",
              " <div class=\"image_container\">\n",
              " <a href=\"catalogue/mesaerion-the-best-science-fiction-stories-1800-1849_983/index.html\"><img alt=\"Mesaerion: The Best Science Fiction Stories 1800-1849\" class=\"thumbnail\" src=\"media/cache/09/a3/09a3aef48557576e1a85ba7efea8ecb7.jpg\"/></a>\n",
              " </div>\n",
              " <p class=\"star-rating One\">\n",
              " <i class=\"icon-star\"></i>\n",
              " <i class=\"icon-star\"></i>\n",
              " <i class=\"icon-star\"></i>\n",
              " <i class=\"icon-star\"></i>\n",
              " <i class=\"icon-star\"></i>\n",
              " </p>\n",
              " <h3><a href=\"catalogue/mesaerion-the-best-science-fiction-stories-1800-1849_983/index.html\" title=\"Mesaerion: The Best Science Fiction Stories 1800-1849\">Mesaerion: The Best Science ...</a></h3>\n",
              " <div class=\"product_price\">\n",
              " <p class=\"price_color\">Â£37.59</p>\n",
              " <p class=\"instock availability\">\n",
              " <i class=\"icon-ok\"></i>\n",
              "     \n",
              "         In stock\n",
              "     \n",
              " </p>\n",
              " <form>\n",
              " <button class=\"btn btn-primary btn-block\" data-loading-text=\"Adding...\" type=\"submit\">Add to basket</button>\n",
              " </form>\n",
              " </div>\n",
              " </article>,\n",
              " <article class=\"product_pod\">\n",
              " <div class=\"image_container\">\n",
              " <a href=\"catalogue/libertarianism-for-beginners_982/index.html\"><img alt=\"Libertarianism for Beginners\" class=\"thumbnail\" src=\"media/cache/0b/bc/0bbcd0a6f4bcd81ccb1049a52736406e.jpg\"/></a>\n",
              " </div>\n",
              " <p class=\"star-rating Two\">\n",
              " <i class=\"icon-star\"></i>\n",
              " <i class=\"icon-star\"></i>\n",
              " <i class=\"icon-star\"></i>\n",
              " <i class=\"icon-star\"></i>\n",
              " <i class=\"icon-star\"></i>\n",
              " </p>\n",
              " <h3><a href=\"catalogue/libertarianism-for-beginners_982/index.html\" title=\"Libertarianism for Beginners\">Libertarianism for Beginners</a></h3>\n",
              " <div class=\"product_price\">\n",
              " <p class=\"price_color\">Â£51.33</p>\n",
              " <p class=\"instock availability\">\n",
              " <i class=\"icon-ok\"></i>\n",
              "     \n",
              "         In stock\n",
              "     \n",
              " </p>\n",
              " <form>\n",
              " <button class=\"btn btn-primary btn-block\" data-loading-text=\"Adding...\" type=\"submit\">Add to basket</button>\n",
              " </form>\n",
              " </div>\n",
              " </article>,\n",
              " <article class=\"product_pod\">\n",
              " <div class=\"image_container\">\n",
              " <a href=\"catalogue/its-only-the-himalayas_981/index.html\"><img alt=\"It's Only the Himalayas\" class=\"thumbnail\" src=\"media/cache/27/a5/27a53d0bb95bdd88288eaf66c9230d7e.jpg\"/></a>\n",
              " </div>\n",
              " <p class=\"star-rating Two\">\n",
              " <i class=\"icon-star\"></i>\n",
              " <i class=\"icon-star\"></i>\n",
              " <i class=\"icon-star\"></i>\n",
              " <i class=\"icon-star\"></i>\n",
              " <i class=\"icon-star\"></i>\n",
              " </p>\n",
              " <h3><a href=\"catalogue/its-only-the-himalayas_981/index.html\" title=\"It's Only the Himalayas\">It's Only the Himalayas</a></h3>\n",
              " <div class=\"product_price\">\n",
              " <p class=\"price_color\">Â£45.17</p>\n",
              " <p class=\"instock availability\">\n",
              " <i class=\"icon-ok\"></i>\n",
              "     \n",
              "         In stock\n",
              "     \n",
              " </p>\n",
              " <form>\n",
              " <button class=\"btn btn-primary btn-block\" data-loading-text=\"Adding...\" type=\"submit\">Add to basket</button>\n",
              " </form>\n",
              " </div>\n",
              " </article>]"
            ]
          },
          "metadata": {},
          "execution_count": 72
        }
      ]
    },
    {
      "cell_type": "code",
      "source": [
        "titles = []\n",
        "ratings = []\n",
        "prices = []\n",
        "links = []"
      ],
      "metadata": {
        "id": "VbCS3PMn2kG3"
      },
      "execution_count": null,
      "outputs": []
    },
    {
      "cell_type": "code",
      "source": [
        "data= []"
      ],
      "metadata": {
        "id": "M2dCLFrJ2vKM"
      },
      "execution_count": null,
      "outputs": []
    },
    {
      "cell_type": "code",
      "source": [
        "for book in books:\n",
        "  title = book.h3.a['title']\n",
        "  titles.append(title)"
      ],
      "metadata": {
        "id": "JSVJ250H2zPE"
      },
      "execution_count": null,
      "outputs": []
    },
    {
      "cell_type": "code",
      "source": [
        "titles"
      ],
      "metadata": {
        "colab": {
          "base_uri": "https://localhost:8080/"
        },
        "id": "zmtaEuLq2_Ew",
        "outputId": "53f24832-8336-4382-ad85-42eacab9ce47"
      },
      "execution_count": null,
      "outputs": [
        {
          "output_type": "execute_result",
          "data": {
            "text/plain": [
              "[\"It's Only the Himalayas\",\n",
              " 'A Light in the Attic',\n",
              " 'Tipping the Velvet',\n",
              " 'Soumission',\n",
              " 'Sharp Objects',\n",
              " 'Sapiens: A Brief History of Humankind',\n",
              " 'The Requiem Red',\n",
              " 'The Dirty Little Secrets of Getting Your Dream Job',\n",
              " 'The Coming Woman: A Novel Based on the Life of the Infamous Feminist, Victoria Woodhull',\n",
              " 'The Boys in the Boat: Nine Americans and Their Epic Quest for Gold at the 1936 Berlin Olympics',\n",
              " 'The Black Maria',\n",
              " 'Starving Hearts (Triangular Trade Trilogy, #1)',\n",
              " \"Shakespeare's Sonnets\",\n",
              " 'Set Me Free',\n",
              " \"Scott Pilgrim's Precious Little Life (Scott Pilgrim #1)\",\n",
              " 'Rip it Up and Start Again',\n",
              " 'Our Band Could Be Your Life: Scenes from the American Indie Underground, 1981-1991',\n",
              " 'Olio',\n",
              " 'Mesaerion: The Best Science Fiction Stories 1800-1849',\n",
              " 'Libertarianism for Beginners',\n",
              " \"It's Only the Himalayas\"]"
            ]
          },
          "metadata": {},
          "execution_count": 78
        }
      ]
    },
    {
      "cell_type": "code",
      "source": [
        "rating = book.p['class'][1]\n",
        "rating"
      ],
      "metadata": {
        "colab": {
          "base_uri": "https://localhost:8080/",
          "height": 36
        },
        "id": "Ap-y-ysR3PLu",
        "outputId": "1e06c15c-f88a-416d-cdfe-b76897f93ad5"
      },
      "execution_count": null,
      "outputs": [
        {
          "output_type": "execute_result",
          "data": {
            "text/plain": [
              "'Two'"
            ],
            "application/vnd.google.colaboratory.intrinsic+json": {
              "type": "string"
            }
          },
          "metadata": {},
          "execution_count": 79
        }
      ]
    },
    {
      "cell_type": "code",
      "source": [
        "#getting the price values\n",
        "price = book.find('p', class_='price_color').text\n",
        "\n",
        "price"
      ],
      "metadata": {
        "colab": {
          "base_uri": "https://localhost:8080/",
          "height": 36
        },
        "id": "7luzX8wK3Xuh",
        "outputId": "1336c129-97b4-4193-fe39-c7cb4dfeb917"
      },
      "execution_count": null,
      "outputs": [
        {
          "output_type": "execute_result",
          "data": {
            "text/plain": [
              "'Â£45.17'"
            ],
            "application/vnd.google.colaboratory.intrinsic+json": {
              "type": "string"
            }
          },
          "metadata": {},
          "execution_count": 80
        }
      ]
    },
    {
      "cell_type": "code",
      "source": [
        "link = 'https://books.toscrape.com/' + book.h3.a['href']\n",
        "link"
      ],
      "metadata": {
        "colab": {
          "base_uri": "https://localhost:8080/",
          "height": 36
        },
        "id": "ilRfLCYX3hpt",
        "outputId": "d3d19fe4-edc0-449a-e030-8b51752c1f5a"
      },
      "execution_count": null,
      "outputs": [
        {
          "output_type": "execute_result",
          "data": {
            "text/plain": [
              "'https://books.toscrape.com/catalogue/its-only-the-himalayas_981/index.html'"
            ],
            "application/vnd.google.colaboratory.intrinsic+json": {
              "type": "string"
            }
          },
          "metadata": {},
          "execution_count": 81
        }
      ]
    },
    {
      "cell_type": "code",
      "source": [
        "#scrape a single page\n",
        "def scrape_page(url):\n",
        "  response = requests.get(url)\n",
        "  soup = bs(response.text, 'html.parser')\n",
        "  books = soup.find_all('article', class_='product_pod')\n",
        "\n",
        "  data = []\n",
        "  for book in books:\n",
        "    title = book.h3.a['title']\n",
        "    rating = book.p['class'][1]\n",
        "    price = book.find('p', class_='price_color').text\n",
        "    link = 'https://books.toscrape.com/' + book.h3.a['href']\n",
        "    data.append({'Title': title, 'Rating': rating, 'Price': price, 'Link': link})\n",
        "    return data"
      ],
      "metadata": {
        "id": "taBEAIey4AIc"
      },
      "execution_count": null,
      "outputs": []
    },
    {
      "cell_type": "code",
      "source": [
        "data"
      ],
      "metadata": {
        "colab": {
          "base_uri": "https://localhost:8080/"
        },
        "id": "jvPtt_tA4nNv",
        "outputId": "3edaf41c-891f-4073-c3ee-caa0ec822029"
      },
      "execution_count": null,
      "outputs": [
        {
          "output_type": "execute_result",
          "data": {
            "text/plain": [
              "[]"
            ]
          },
          "metadata": {},
          "execution_count": 83
        }
      ]
    },
    {
      "cell_type": "code",
      "source": [
        "#list to store all books data\n",
        "all_books_data = []"
      ],
      "metadata": {
        "id": "2qfJkd654r_i"
      },
      "execution_count": null,
      "outputs": []
    },
    {
      "cell_type": "code",
      "source": [
        "base_url = 'https://books.toscrape.com/catalogue/page-{}.html'"
      ],
      "metadata": {
        "id": "erl-F8YQ4xDt"
      },
      "execution_count": null,
      "outputs": []
    },
    {
      "cell_type": "code",
      "source": [
        "#Loop through all the pages\n",
        "for i in range(1, 51):\n",
        "  url = base_url.format(i)\n",
        "  all_books_data.extend(scrape_page(url))"
      ],
      "metadata": {
        "id": "gWiTuCqh41fE"
      },
      "execution_count": null,
      "outputs": []
    },
    {
      "cell_type": "code",
      "source": [
        "all_books_data[:10]"
      ],
      "metadata": {
        "colab": {
          "base_uri": "https://localhost:8080/"
        },
        "id": "EsfOj4jd5Asx",
        "outputId": "4f9d3e6e-cad3-4d85-f281-023a779d5f15"
      },
      "execution_count": null,
      "outputs": [
        {
          "output_type": "execute_result",
          "data": {
            "text/plain": [
              "[{'Title': 'Frankenstein',\n",
              "  'Rating': 'Two',\n",
              "  'Price': 'Â£38.00',\n",
              "  'Link': 'https://books.toscrape.com/frankenstein_20/index.html'},\n",
              " {'Title': 'A Light in the Attic',\n",
              "  'Rating': 'Three',\n",
              "  'Price': 'Â£51.77',\n",
              "  'Link': 'https://books.toscrape.com/a-light-in-the-attic_1000/index.html'},\n",
              " {'Title': 'In Her Wake',\n",
              "  'Rating': 'One',\n",
              "  'Price': 'Â£12.84',\n",
              "  'Link': 'https://books.toscrape.com/in-her-wake_980/index.html'},\n",
              " {'Title': 'Slow States of Collapse: Poems',\n",
              "  'Rating': 'Three',\n",
              "  'Price': 'Â£57.31',\n",
              "  'Link': 'https://books.toscrape.com/slow-states-of-collapse-poems_960/index.html'},\n",
              " {'Title': 'The Nameless City (The Nameless City #1)',\n",
              "  'Rating': 'Four',\n",
              "  'Price': 'Â£38.16',\n",
              "  'Link': 'https://books.toscrape.com/the-nameless-city-the-nameless-city-1_940/index.html'},\n",
              " {'Title': 'Princess Jellyfish 2-in-1 Omnibus, Vol. 01 (Princess Jellyfish 2-in-1 Omnibus #1)',\n",
              "  'Rating': 'Five',\n",
              "  'Price': 'Â£13.61',\n",
              "  'Link': 'https://books.toscrape.com/princess-jellyfish-2-in-1-omnibus-vol-01-princess-jellyfish-2-in-1-omnibus-1_920/index.html'},\n",
              " {'Title': 'Immunity: How Elie Metchnikoff Changed the Course of Modern Medicine',\n",
              "  'Rating': 'Five',\n",
              "  'Price': 'Â£57.36',\n",
              "  'Link': 'https://books.toscrape.com/immunity-how-elie-metchnikoff-changed-the-course-of-modern-medicine_900/index.html'},\n",
              " {'Title': 'Algorithms to Live By: The Computer Science of Human Decisions',\n",
              "  'Rating': 'One',\n",
              "  'Price': 'Â£30.81',\n",
              "  'Link': 'https://books.toscrape.com/algorithms-to-live-by-the-computer-science-of-human-decisions_880/index.html'},\n",
              " {'Title': 'The Shadow Hero (The Shadow Hero)',\n",
              "  'Rating': 'One',\n",
              "  'Price': 'Â£33.14',\n",
              "  'Link': 'https://books.toscrape.com/the-shadow-hero-the-shadow-hero_860/index.html'},\n",
              " {'Title': \"The Bridge to Consciousness: I'm Writing the Bridge Between Science and Our Old and New Beliefs.\",\n",
              "  'Rating': 'Three',\n",
              "  'Price': 'Â£32.00',\n",
              "  'Link': 'https://books.toscrape.com/the-bridge-to-consciousness-im-writing-the-bridge-between-science-and-our-old-and-new-beliefs_840/index.html'}]"
            ]
          },
          "metadata": {},
          "execution_count": 93
        }
      ]
    },
    {
      "cell_type": "code",
      "source": [
        "#Create a DataFrame\n",
        "books_df = pd.DataFrame(all_books_data)"
      ],
      "metadata": {
        "id": "BuJC4Vub5Fn_"
      },
      "execution_count": null,
      "outputs": []
    },
    {
      "cell_type": "code",
      "source": [
        "books_df"
      ],
      "metadata": {
        "colab": {
          "base_uri": "https://localhost:8080/",
          "height": 423
        },
        "id": "savDaaWG5KEw",
        "outputId": "5927778b-8f96-4dc3-9635-6d29e748c4ae"
      },
      "execution_count": null,
      "outputs": [
        {
          "output_type": "execute_result",
          "data": {
            "text/plain": [
              "                                       Title Rating    Price  \\\n",
              "0                               Frankenstein    Two  Â£38.00   \n",
              "1                       A Light in the Attic  Three  Â£51.77   \n",
              "2                                In Her Wake    One  Â£12.84   \n",
              "3             Slow States of Collapse: Poems  Three  Â£57.31   \n",
              "4   The Nameless City (The Nameless City #1)   Four  Â£38.16   \n",
              "..                                       ...    ...      ...   \n",
              "90  Fruits Basket, Vol. 2 (Fruits Basket #2)   Five  Â£11.64   \n",
              "91                         The Secret Healer  Three  Â£34.56   \n",
              "92                         The Bhagavad Gita  Three  Â£57.49   \n",
              "93               On the Road (Duluoz Legend)  Three  Â£32.36   \n",
              "94                              Frankenstein    Two  Â£38.00   \n",
              "\n",
              "                                                 Link  \n",
              "0   https://books.toscrape.com/frankenstein_20/ind...  \n",
              "1   https://books.toscrape.com/a-light-in-the-atti...  \n",
              "2   https://books.toscrape.com/in-her-wake_980/ind...  \n",
              "3   https://books.toscrape.com/slow-states-of-coll...  \n",
              "4   https://books.toscrape.com/the-nameless-city-t...  \n",
              "..                                                ...  \n",
              "90  https://books.toscrape.com/fruits-basket-vol-2...  \n",
              "91  https://books.toscrape.com/the-secret-healer_8...  \n",
              "92  https://books.toscrape.com/the-bhagavad-gita_6...  \n",
              "93  https://books.toscrape.com/on-the-road-duluoz-...  \n",
              "94  https://books.toscrape.com/frankenstein_20/ind...  \n",
              "\n",
              "[95 rows x 4 columns]"
            ],
            "text/html": [
              "\n",
              "  <div id=\"df-fce9f506-3485-46f9-8d71-7379da767b8b\" class=\"colab-df-container\">\n",
              "    <div>\n",
              "<style scoped>\n",
              "    .dataframe tbody tr th:only-of-type {\n",
              "        vertical-align: middle;\n",
              "    }\n",
              "\n",
              "    .dataframe tbody tr th {\n",
              "        vertical-align: top;\n",
              "    }\n",
              "\n",
              "    .dataframe thead th {\n",
              "        text-align: right;\n",
              "    }\n",
              "</style>\n",
              "<table border=\"1\" class=\"dataframe\">\n",
              "  <thead>\n",
              "    <tr style=\"text-align: right;\">\n",
              "      <th></th>\n",
              "      <th>Title</th>\n",
              "      <th>Rating</th>\n",
              "      <th>Price</th>\n",
              "      <th>Link</th>\n",
              "    </tr>\n",
              "  </thead>\n",
              "  <tbody>\n",
              "    <tr>\n",
              "      <th>0</th>\n",
              "      <td>Frankenstein</td>\n",
              "      <td>Two</td>\n",
              "      <td>Â£38.00</td>\n",
              "      <td>https://books.toscrape.com/frankenstein_20/ind...</td>\n",
              "    </tr>\n",
              "    <tr>\n",
              "      <th>1</th>\n",
              "      <td>A Light in the Attic</td>\n",
              "      <td>Three</td>\n",
              "      <td>Â£51.77</td>\n",
              "      <td>https://books.toscrape.com/a-light-in-the-atti...</td>\n",
              "    </tr>\n",
              "    <tr>\n",
              "      <th>2</th>\n",
              "      <td>In Her Wake</td>\n",
              "      <td>One</td>\n",
              "      <td>Â£12.84</td>\n",
              "      <td>https://books.toscrape.com/in-her-wake_980/ind...</td>\n",
              "    </tr>\n",
              "    <tr>\n",
              "      <th>3</th>\n",
              "      <td>Slow States of Collapse: Poems</td>\n",
              "      <td>Three</td>\n",
              "      <td>Â£57.31</td>\n",
              "      <td>https://books.toscrape.com/slow-states-of-coll...</td>\n",
              "    </tr>\n",
              "    <tr>\n",
              "      <th>4</th>\n",
              "      <td>The Nameless City (The Nameless City #1)</td>\n",
              "      <td>Four</td>\n",
              "      <td>Â£38.16</td>\n",
              "      <td>https://books.toscrape.com/the-nameless-city-t...</td>\n",
              "    </tr>\n",
              "    <tr>\n",
              "      <th>...</th>\n",
              "      <td>...</td>\n",
              "      <td>...</td>\n",
              "      <td>...</td>\n",
              "      <td>...</td>\n",
              "    </tr>\n",
              "    <tr>\n",
              "      <th>90</th>\n",
              "      <td>Fruits Basket, Vol. 2 (Fruits Basket #2)</td>\n",
              "      <td>Five</td>\n",
              "      <td>Â£11.64</td>\n",
              "      <td>https://books.toscrape.com/fruits-basket-vol-2...</td>\n",
              "    </tr>\n",
              "    <tr>\n",
              "      <th>91</th>\n",
              "      <td>The Secret Healer</td>\n",
              "      <td>Three</td>\n",
              "      <td>Â£34.56</td>\n",
              "      <td>https://books.toscrape.com/the-secret-healer_8...</td>\n",
              "    </tr>\n",
              "    <tr>\n",
              "      <th>92</th>\n",
              "      <td>The Bhagavad Gita</td>\n",
              "      <td>Three</td>\n",
              "      <td>Â£57.49</td>\n",
              "      <td>https://books.toscrape.com/the-bhagavad-gita_6...</td>\n",
              "    </tr>\n",
              "    <tr>\n",
              "      <th>93</th>\n",
              "      <td>On the Road (Duluoz Legend)</td>\n",
              "      <td>Three</td>\n",
              "      <td>Â£32.36</td>\n",
              "      <td>https://books.toscrape.com/on-the-road-duluoz-...</td>\n",
              "    </tr>\n",
              "    <tr>\n",
              "      <th>94</th>\n",
              "      <td>Frankenstein</td>\n",
              "      <td>Two</td>\n",
              "      <td>Â£38.00</td>\n",
              "      <td>https://books.toscrape.com/frankenstein_20/ind...</td>\n",
              "    </tr>\n",
              "  </tbody>\n",
              "</table>\n",
              "<p>95 rows × 4 columns</p>\n",
              "</div>\n",
              "    <div class=\"colab-df-buttons\">\n",
              "\n",
              "  <div class=\"colab-df-container\">\n",
              "    <button class=\"colab-df-convert\" onclick=\"convertToInteractive('df-fce9f506-3485-46f9-8d71-7379da767b8b')\"\n",
              "            title=\"Convert this dataframe to an interactive table.\"\n",
              "            style=\"display:none;\">\n",
              "\n",
              "  <svg xmlns=\"http://www.w3.org/2000/svg\" height=\"24px\" viewBox=\"0 -960 960 960\">\n",
              "    <path d=\"M120-120v-720h720v720H120Zm60-500h600v-160H180v160Zm220 220h160v-160H400v160Zm0 220h160v-160H400v160ZM180-400h160v-160H180v160Zm440 0h160v-160H620v160ZM180-180h160v-160H180v160Zm440 0h160v-160H620v160Z\"/>\n",
              "  </svg>\n",
              "    </button>\n",
              "\n",
              "  <style>\n",
              "    .colab-df-container {\n",
              "      display:flex;\n",
              "      gap: 12px;\n",
              "    }\n",
              "\n",
              "    .colab-df-convert {\n",
              "      background-color: #E8F0FE;\n",
              "      border: none;\n",
              "      border-radius: 50%;\n",
              "      cursor: pointer;\n",
              "      display: none;\n",
              "      fill: #1967D2;\n",
              "      height: 32px;\n",
              "      padding: 0 0 0 0;\n",
              "      width: 32px;\n",
              "    }\n",
              "\n",
              "    .colab-df-convert:hover {\n",
              "      background-color: #E2EBFA;\n",
              "      box-shadow: 0px 1px 2px rgba(60, 64, 67, 0.3), 0px 1px 3px 1px rgba(60, 64, 67, 0.15);\n",
              "      fill: #174EA6;\n",
              "    }\n",
              "\n",
              "    .colab-df-buttons div {\n",
              "      margin-bottom: 4px;\n",
              "    }\n",
              "\n",
              "    [theme=dark] .colab-df-convert {\n",
              "      background-color: #3B4455;\n",
              "      fill: #D2E3FC;\n",
              "    }\n",
              "\n",
              "    [theme=dark] .colab-df-convert:hover {\n",
              "      background-color: #434B5C;\n",
              "      box-shadow: 0px 1px 3px 1px rgba(0, 0, 0, 0.15);\n",
              "      filter: drop-shadow(0px 1px 2px rgba(0, 0, 0, 0.3));\n",
              "      fill: #FFFFFF;\n",
              "    }\n",
              "  </style>\n",
              "\n",
              "    <script>\n",
              "      const buttonEl =\n",
              "        document.querySelector('#df-fce9f506-3485-46f9-8d71-7379da767b8b button.colab-df-convert');\n",
              "      buttonEl.style.display =\n",
              "        google.colab.kernel.accessAllowed ? 'block' : 'none';\n",
              "\n",
              "      async function convertToInteractive(key) {\n",
              "        const element = document.querySelector('#df-fce9f506-3485-46f9-8d71-7379da767b8b');\n",
              "        const dataTable =\n",
              "          await google.colab.kernel.invokeFunction('convertToInteractive',\n",
              "                                                    [key], {});\n",
              "        if (!dataTable) return;\n",
              "\n",
              "        const docLinkHtml = 'Like what you see? Visit the ' +\n",
              "          '<a target=\"_blank\" href=https://colab.research.google.com/notebooks/data_table.ipynb>data table notebook</a>'\n",
              "          + ' to learn more about interactive tables.';\n",
              "        element.innerHTML = '';\n",
              "        dataTable['output_type'] = 'display_data';\n",
              "        await google.colab.output.renderOutput(dataTable, element);\n",
              "        const docLink = document.createElement('div');\n",
              "        docLink.innerHTML = docLinkHtml;\n",
              "        element.appendChild(docLink);\n",
              "      }\n",
              "    </script>\n",
              "  </div>\n",
              "\n",
              "\n",
              "<div id=\"df-b76aa854-1bc9-4862-b0ff-18b4765136b5\">\n",
              "  <button class=\"colab-df-quickchart\" onclick=\"quickchart('df-b76aa854-1bc9-4862-b0ff-18b4765136b5')\"\n",
              "            title=\"Suggest charts\"\n",
              "            style=\"display:none;\">\n",
              "\n",
              "<svg xmlns=\"http://www.w3.org/2000/svg\" height=\"24px\"viewBox=\"0 0 24 24\"\n",
              "     width=\"24px\">\n",
              "    <g>\n",
              "        <path d=\"M19 3H5c-1.1 0-2 .9-2 2v14c0 1.1.9 2 2 2h14c1.1 0 2-.9 2-2V5c0-1.1-.9-2-2-2zM9 17H7v-7h2v7zm4 0h-2V7h2v10zm4 0h-2v-4h2v4z\"/>\n",
              "    </g>\n",
              "</svg>\n",
              "  </button>\n",
              "\n",
              "<style>\n",
              "  .colab-df-quickchart {\n",
              "      --bg-color: #E8F0FE;\n",
              "      --fill-color: #1967D2;\n",
              "      --hover-bg-color: #E2EBFA;\n",
              "      --hover-fill-color: #174EA6;\n",
              "      --disabled-fill-color: #AAA;\n",
              "      --disabled-bg-color: #DDD;\n",
              "  }\n",
              "\n",
              "  [theme=dark] .colab-df-quickchart {\n",
              "      --bg-color: #3B4455;\n",
              "      --fill-color: #D2E3FC;\n",
              "      --hover-bg-color: #434B5C;\n",
              "      --hover-fill-color: #FFFFFF;\n",
              "      --disabled-bg-color: #3B4455;\n",
              "      --disabled-fill-color: #666;\n",
              "  }\n",
              "\n",
              "  .colab-df-quickchart {\n",
              "    background-color: var(--bg-color);\n",
              "    border: none;\n",
              "    border-radius: 50%;\n",
              "    cursor: pointer;\n",
              "    display: none;\n",
              "    fill: var(--fill-color);\n",
              "    height: 32px;\n",
              "    padding: 0;\n",
              "    width: 32px;\n",
              "  }\n",
              "\n",
              "  .colab-df-quickchart:hover {\n",
              "    background-color: var(--hover-bg-color);\n",
              "    box-shadow: 0 1px 2px rgba(60, 64, 67, 0.3), 0 1px 3px 1px rgba(60, 64, 67, 0.15);\n",
              "    fill: var(--button-hover-fill-color);\n",
              "  }\n",
              "\n",
              "  .colab-df-quickchart-complete:disabled,\n",
              "  .colab-df-quickchart-complete:disabled:hover {\n",
              "    background-color: var(--disabled-bg-color);\n",
              "    fill: var(--disabled-fill-color);\n",
              "    box-shadow: none;\n",
              "  }\n",
              "\n",
              "  .colab-df-spinner {\n",
              "    border: 2px solid var(--fill-color);\n",
              "    border-color: transparent;\n",
              "    border-bottom-color: var(--fill-color);\n",
              "    animation:\n",
              "      spin 1s steps(1) infinite;\n",
              "  }\n",
              "\n",
              "  @keyframes spin {\n",
              "    0% {\n",
              "      border-color: transparent;\n",
              "      border-bottom-color: var(--fill-color);\n",
              "      border-left-color: var(--fill-color);\n",
              "    }\n",
              "    20% {\n",
              "      border-color: transparent;\n",
              "      border-left-color: var(--fill-color);\n",
              "      border-top-color: var(--fill-color);\n",
              "    }\n",
              "    30% {\n",
              "      border-color: transparent;\n",
              "      border-left-color: var(--fill-color);\n",
              "      border-top-color: var(--fill-color);\n",
              "      border-right-color: var(--fill-color);\n",
              "    }\n",
              "    40% {\n",
              "      border-color: transparent;\n",
              "      border-right-color: var(--fill-color);\n",
              "      border-top-color: var(--fill-color);\n",
              "    }\n",
              "    60% {\n",
              "      border-color: transparent;\n",
              "      border-right-color: var(--fill-color);\n",
              "    }\n",
              "    80% {\n",
              "      border-color: transparent;\n",
              "      border-right-color: var(--fill-color);\n",
              "      border-bottom-color: var(--fill-color);\n",
              "    }\n",
              "    90% {\n",
              "      border-color: transparent;\n",
              "      border-bottom-color: var(--fill-color);\n",
              "    }\n",
              "  }\n",
              "</style>\n",
              "\n",
              "  <script>\n",
              "    async function quickchart(key) {\n",
              "      const quickchartButtonEl =\n",
              "        document.querySelector('#' + key + ' button');\n",
              "      quickchartButtonEl.disabled = true;  // To prevent multiple clicks.\n",
              "      quickchartButtonEl.classList.add('colab-df-spinner');\n",
              "      try {\n",
              "        const charts = await google.colab.kernel.invokeFunction(\n",
              "            'suggestCharts', [key], {});\n",
              "      } catch (error) {\n",
              "        console.error('Error during call to suggestCharts:', error);\n",
              "      }\n",
              "      quickchartButtonEl.classList.remove('colab-df-spinner');\n",
              "      quickchartButtonEl.classList.add('colab-df-quickchart-complete');\n",
              "    }\n",
              "    (() => {\n",
              "      let quickchartButtonEl =\n",
              "        document.querySelector('#df-b76aa854-1bc9-4862-b0ff-18b4765136b5 button');\n",
              "      quickchartButtonEl.style.display =\n",
              "        google.colab.kernel.accessAllowed ? 'block' : 'none';\n",
              "    })();\n",
              "  </script>\n",
              "</div>\n",
              "\n",
              "  <div id=\"id_309fd0c9-5528-4827-9ca2-193ce68c3959\">\n",
              "    <style>\n",
              "      .colab-df-generate {\n",
              "        background-color: #E8F0FE;\n",
              "        border: none;\n",
              "        border-radius: 50%;\n",
              "        cursor: pointer;\n",
              "        display: none;\n",
              "        fill: #1967D2;\n",
              "        height: 32px;\n",
              "        padding: 0 0 0 0;\n",
              "        width: 32px;\n",
              "      }\n",
              "\n",
              "      .colab-df-generate:hover {\n",
              "        background-color: #E2EBFA;\n",
              "        box-shadow: 0px 1px 2px rgba(60, 64, 67, 0.3), 0px 1px 3px 1px rgba(60, 64, 67, 0.15);\n",
              "        fill: #174EA6;\n",
              "      }\n",
              "\n",
              "      [theme=dark] .colab-df-generate {\n",
              "        background-color: #3B4455;\n",
              "        fill: #D2E3FC;\n",
              "      }\n",
              "\n",
              "      [theme=dark] .colab-df-generate:hover {\n",
              "        background-color: #434B5C;\n",
              "        box-shadow: 0px 1px 3px 1px rgba(0, 0, 0, 0.15);\n",
              "        filter: drop-shadow(0px 1px 2px rgba(0, 0, 0, 0.3));\n",
              "        fill: #FFFFFF;\n",
              "      }\n",
              "    </style>\n",
              "    <button class=\"colab-df-generate\" onclick=\"generateWithVariable('books_df')\"\n",
              "            title=\"Generate code using this dataframe.\"\n",
              "            style=\"display:none;\">\n",
              "\n",
              "  <svg xmlns=\"http://www.w3.org/2000/svg\" height=\"24px\"viewBox=\"0 0 24 24\"\n",
              "       width=\"24px\">\n",
              "    <path d=\"M7,19H8.4L18.45,9,17,7.55,7,17.6ZM5,21V16.75L18.45,3.32a2,2,0,0,1,2.83,0l1.4,1.43a1.91,1.91,0,0,1,.58,1.4,1.91,1.91,0,0,1-.58,1.4L9.25,21ZM18.45,9,17,7.55Zm-12,3A5.31,5.31,0,0,0,4.9,8.1,5.31,5.31,0,0,0,1,6.5,5.31,5.31,0,0,0,4.9,4.9,5.31,5.31,0,0,0,6.5,1,5.31,5.31,0,0,0,8.1,4.9,5.31,5.31,0,0,0,12,6.5,5.46,5.46,0,0,0,6.5,12Z\"/>\n",
              "  </svg>\n",
              "    </button>\n",
              "    <script>\n",
              "      (() => {\n",
              "      const buttonEl =\n",
              "        document.querySelector('#id_309fd0c9-5528-4827-9ca2-193ce68c3959 button.colab-df-generate');\n",
              "      buttonEl.style.display =\n",
              "        google.colab.kernel.accessAllowed ? 'block' : 'none';\n",
              "\n",
              "      buttonEl.onclick = () => {\n",
              "        google.colab.notebook.generateWithVariable('books_df');\n",
              "      }\n",
              "      })();\n",
              "    </script>\n",
              "  </div>\n",
              "\n",
              "    </div>\n",
              "  </div>\n"
            ]
          },
          "metadata": {},
          "execution_count": 95
        }
      ]
    }
  ]
}